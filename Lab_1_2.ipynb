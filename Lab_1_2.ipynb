{
 "cells": [
  {
   "cell_type": "code",
   "execution_count": 2,
   "id": "25727f8a-d781-4cb1-93a3-2ad6ade39d0c",
   "metadata": {},
   "outputs": [],
   "source": [
    "import polars as pl "
   ]
  },
  {
   "cell_type": "code",
   "execution_count": 26,
   "id": "42260d25-414c-41db-984d-e6336caff8d4",
   "metadata": {},
   "outputs": [
    {
     "name": "stdout",
     "output_type": "stream",
     "text": [
      "Requirement already satisfied: more_polars in c:\\users\\lb7659fu\\downloads\\anaconda\\envs\\polars\\lib\\site-packages (0.3.0)Note: you may need to restart the kernel to use updated packages.\n",
      "\n",
      "Requirement already satisfied: composable>=0.5.4 in c:\\users\\lb7659fu\\downloads\\anaconda\\envs\\polars\\lib\\site-packages (from more_polars) (0.5.4)\n",
      "Requirement already satisfied: polars>=0.14.26 in c:\\users\\lb7659fu\\downloads\\anaconda\\envs\\polars\\lib\\site-packages (from more_polars) (1.6.0)\n",
      "Requirement already satisfied: python-forge<19.0,>=18.6 in c:\\users\\lb7659fu\\downloads\\anaconda\\envs\\polars\\lib\\site-packages (from composable>=0.5.4->more_polars) (18.6.0)\n",
      "Requirement already satisfied: toolz<0.12.0,>=0.11.1 in c:\\users\\lb7659fu\\downloads\\anaconda\\envs\\polars\\lib\\site-packages (from composable>=0.5.4->more_polars) (0.11.2)\n"
     ]
    }
   ],
   "source": [
    "%pip install more_polars"
   ]
  },
  {
   "cell_type": "code",
   "execution_count": 9,
   "id": "7c758593-8831-4b88-9df5-d28c17057158",
   "metadata": {},
   "outputs": [
    {
     "data": {
      "text/html": [
       "<div><style>\n",
       ".dataframe > thead > tr,\n",
       ".dataframe > tbody > tr {\n",
       "  text-align: right;\n",
       "  white-space: pre-wrap;\n",
       "}\n",
       "</style>\n",
       "<small>shape: (5, 45)</small><table border=\"1\" class=\"dataframe\"><thead><tr><th>ID</th><th>F1</th><th>F5</th><th>F2</th><th>F1.1</th><th>F2.1</th><th>F6</th><th>F4</th><th>F3</th><th>F5.1</th><th>F1.2</th><th>F2.2</th><th>F6.1</th><th>F2.3</th><th>F4.1</th><th>F2.4</th><th>F5.2</th><th>F2.5</th><th>F6.2</th><th>F1.3</th><th>F2.6</th><th>F5.3</th><th>F4.2</th><th>F2.7</th><th>F3.1</th><th>F2.8</th><th>F5.4</th><th>F3.2</th><th>F1.4</th><th>F3.3</th><th>F1.5</th><th>F5.5</th><th>F6.3</th><th>F1.6</th><th>F5.6</th><th>F2.9</th><th>F3.4</th><th>F4.3</th><th>F2.10</th><th>F1.7</th><th>F6.4</th><th>F4.4</th><th>F5.7</th><th>F3.5</th><th>F2.11</th></tr><tr><td>i64</td><td>str</td><td>str</td><td>str</td><td>str</td><td>str</td><td>str</td><td>str</td><td>str</td><td>str</td><td>str</td><td>str</td><td>str</td><td>str</td><td>str</td><td>str</td><td>str</td><td>str</td><td>str</td><td>str</td><td>str</td><td>str</td><td>str</td><td>str</td><td>str</td><td>str</td><td>str</td><td>str</td><td>str</td><td>str</td><td>str</td><td>str</td><td>str</td><td>str</td><td>str</td><td>str</td><td>str</td><td>str</td><td>str</td><td>str</td><td>str</td><td>str</td><td>str</td><td>str</td><td>str</td></tr></thead><tbody><tr><td>1</td><td>&quot;Somewhat Agree&quot;</td><td>&quot;Somewhat Disagree&quot;</td><td>&quot;Somewhat Agree&quot;</td><td>&quot;Somewhat Agree&quot;</td><td>&quot;Somewhat Agree&quot;</td><td>&quot;Somewhat Disagree&quot;</td><td>&quot;Somewhat Agree&quot;</td><td>&quot;Somewhat Agree&quot;</td><td>&quot;Somewhat Agree&quot;</td><td>&quot;Somewhat Agree&quot;</td><td>&quot;Somewhat Agree&quot;</td><td>&quot;Somewhat Agree&quot;</td><td>&quot;Somewhat Agree&quot;</td><td>&quot;Somewhat Agree&quot;</td><td>&quot;Somewhat Agree&quot;</td><td>&quot;Somewhat Agree&quot;</td><td>&quot;Somewhat Agree&quot;</td><td>&quot;Somewhat Agree&quot;</td><td>&quot;Somewhat Agree&quot;</td><td>&quot;Somewhat Agree&quot;</td><td>&quot;Somewhat Agree&quot;</td><td>&quot;Somewhat Agree&quot;</td><td>&quot;Somewhat Agree&quot;</td><td>&quot;Somewhat Disagree&quot;</td><td>&quot;Somewhat Agree&quot;</td><td>&quot;Somewhat Agree&quot;</td><td>&quot;Somewhat Agree&quot;</td><td>&quot;Neither Agree nor Disagree&quot;</td><td>&quot;Somewhat Agree&quot;</td><td>&quot;Somewhat Agree&quot;</td><td>&quot;Somewhat Disagree&quot;</td><td>&quot;Somewhat Disagree&quot;</td><td>&quot;Somewhat Agree&quot;</td><td>&quot;Somewhat Agree&quot;</td><td>&quot;Somewhat Agree&quot;</td><td>&quot;Somewhat Disagree&quot;</td><td>&quot;Neither Agree nor Disagree&quot;</td><td>&quot;Somewhat Agree&quot;</td><td>&quot;Somewhat Agree&quot;</td><td>&quot;Somewhat Agree&quot;</td><td>&quot;Somewhat Agree&quot;</td><td>&quot;Somewhat Agree&quot;</td><td>&quot;Somewhat Agree&quot;</td><td>&quot;Somewhat Agree&quot;</td></tr><tr><td>2</td><td>&quot;Somewhat Agree&quot;</td><td>&quot;Somewhat Disagree&quot;</td><td>&quot;Somewhat Agree&quot;</td><td>&quot;Somewhat Agree&quot;</td><td>&quot;Somewhat Agree&quot;</td><td>&quot;Somewhat Disagree&quot;</td><td>&quot;Somewhat Agree&quot;</td><td>&quot;Neither Agree nor Disagree&quot;</td><td>&quot;Neither Agree nor Disagree&quot;</td><td>&quot;Somewhat Agree&quot;</td><td>&quot;Neither Agree nor Disagree&quot;</td><td>&quot;Somewhat Agree&quot;</td><td>&quot;Somewhat Agree&quot;</td><td>&quot;Neither Agree nor Disagree&quot;</td><td>&quot;Somewhat Agree&quot;</td><td>&quot;Somewhat Agree&quot;</td><td>&quot;Somewhat Agree&quot;</td><td>&quot;Somewhat Agree&quot;</td><td>&quot;Somewhat Agree&quot;</td><td>&quot;Somewhat Agree&quot;</td><td>&quot;Somewhat Agree&quot;</td><td>&quot;Somewhat Agree&quot;</td><td>&quot;Somewhat Agree&quot;</td><td>&quot;Neither Agree nor Disagree&quot;</td><td>&quot;Somewhat Agree&quot;</td><td>&quot;Neither Agree nor Disagree&quot;</td><td>&quot;Neither Agree nor Disagree&quot;</td><td>&quot;Somewhat Agree&quot;</td><td>&quot;Neither Agree nor Disagree&quot;</td><td>&quot;Neither Agree nor Disagree&quot;</td><td>&quot;Neither Agree nor Disagree&quot;</td><td>&quot;Somewhat Disagree&quot;</td><td>&quot;Somewhat Agree&quot;</td><td>&quot;Somewhat Disagree&quot;</td><td>&quot;Somewhat Agree&quot;</td><td>&quot;Somewhat Agree&quot;</td><td>&quot;Neither Agree nor Disagree&quot;</td><td>&quot;Somewhat Agree&quot;</td><td>&quot;Somewhat Agree&quot;</td><td>&quot;Somewhat Disagree&quot;</td><td>&quot;Neither Agree nor Disagree&quot;</td><td>&quot;Somewhat Agree&quot;</td><td>&quot;Neither Agree nor Disagree&quot;</td><td>&quot;Somewhat Agree&quot;</td></tr><tr><td>3</td><td>&quot;Strongly Agree&quot;</td><td>&quot;Neither Agree nor Disagree&quot;</td><td>&quot;Somewhat Agree&quot;</td><td>&quot;Strongly Agree&quot;</td><td>&quot;Strongly Agree&quot;</td><td>&quot;Somewhat Disagree&quot;</td><td>&quot;Somewhat Agree&quot;</td><td>&quot;Somewhat Agree&quot;</td><td>&quot;Somewhat Agree&quot;</td><td>&quot;Strongly Agree&quot;</td><td>&quot;Somewhat Agree&quot;</td><td>&quot;Neither Agree nor Disagree&quot;</td><td>&quot;Somewhat Agree&quot;</td><td>&quot;Neither Agree nor Disagree&quot;</td><td>&quot;Somewhat Agree&quot;</td><td>&quot;Somewhat Disagree&quot;</td><td>&quot;Strongly Agree&quot;</td><td>&quot;Somewhat Agree&quot;</td><td>&quot;Strongly Agree&quot;</td><td>&quot;Somewhat Agree&quot;</td><td>&quot;Somewhat Agree&quot;</td><td>&quot;Somewhat Agree&quot;</td><td>null</td><td>&quot;Somewhat Disagree&quot;</td><td>&quot;Somewhat Agree&quot;</td><td>&quot;Somewhat Agree&quot;</td><td>&quot;Somewhat Agree&quot;</td><td>&quot;Somewhat Disagree&quot;</td><td>&quot;Somewhat Agree&quot;</td><td>&quot;Strongly Agree&quot;</td><td>&quot;Somewhat Disagree&quot;</td><td>&quot;Somewhat Disagree&quot;</td><td>&quot;Strongly Agree&quot;</td><td>&quot;Somewhat Disagree&quot;</td><td>&quot;Somewhat Agree&quot;</td><td>&quot;Somewhat Agree&quot;</td><td>&quot;Neither Agree nor Disagree&quot;</td><td>&quot;Somewhat Agree&quot;</td><td>&quot;Somewhat Agree&quot;</td><td>&quot;Somewhat Agree&quot;</td><td>&quot;Somewhat Agree&quot;</td><td>&quot;Strongly Agree&quot;</td><td>&quot;Strongly Disagree&quot;</td><td>&quot;Somewhat Agree&quot;</td></tr><tr><td>4</td><td>&quot;Somewhat Agree&quot;</td><td>&quot;Somewhat Agree&quot;</td><td>&quot;Strongly Agree&quot;</td><td>&quot;Somewhat Agree&quot;</td><td>&quot;Strongly Agree&quot;</td><td>&quot;Neither Agree nor Disagree&quot;</td><td>&quot;Neither Agree nor Disagree&quot;</td><td>&quot;Somewhat Disagree&quot;</td><td>&quot;Somewhat Agree&quot;</td><td>&quot;Strongly Agree&quot;</td><td>&quot;Strongly Agree&quot;</td><td>&quot;Somewhat Agree&quot;</td><td>&quot;Somewhat Agree&quot;</td><td>&quot;Neither Agree nor Disagree&quot;</td><td>&quot;Strongly Agree&quot;</td><td>&quot;Somewhat Disagree&quot;</td><td>&quot;Strongly Agree&quot;</td><td>&quot;Somewhat Agree&quot;</td><td>&quot;Somewhat Agree&quot;</td><td>&quot;Strongly Agree&quot;</td><td>&quot;Somewhat Agree&quot;</td><td>&quot;Somewhat Agree&quot;</td><td>&quot;Somewhat Agree&quot;</td><td>&quot;Somewhat Disagree&quot;</td><td>&quot;Somewhat Agree&quot;</td><td>&quot;Somewhat Agree&quot;</td><td>&quot;Somewhat Disagree&quot;</td><td>&quot;Neither Agree nor Disagree&quot;</td><td>&quot;Somewhat Disagree&quot;</td><td>&quot;Somewhat Agree&quot;</td><td>&quot;Somewhat Disagree&quot;</td><td>&quot;Somewhat Agree&quot;</td><td>&quot;Strongly Agree&quot;</td><td>&quot;Somewhat Disagree&quot;</td><td>&quot;Somewhat Agree&quot;</td><td>&quot;Somewhat Disagree&quot;</td><td>&quot;Somewhat Agree&quot;</td><td>&quot;Somewhat Agree&quot;</td><td>&quot;Neither Agree nor Disagree&quot;</td><td>&quot;Neither Agree nor Disagree&quot;</td><td>&quot;Neither Agree nor Disagree&quot;</td><td>&quot;Somewhat Agree&quot;</td><td>&quot;Somewhat Disagree&quot;</td><td>&quot;Somewhat Agree&quot;</td></tr><tr><td>5</td><td>&quot;Strongly Agree&quot;</td><td>&quot;Strongly Disagree&quot;</td><td>&quot;Neither Agree nor Disagree&quot;</td><td>&quot;Strongly Agree&quot;</td><td>&quot;Somewhat Agree&quot;</td><td>&quot;Strongly Disagree&quot;</td><td>&quot;Strongly Agree&quot;</td><td>&quot;Somewhat Agree&quot;</td><td>&quot;Neither Agree nor Disagree&quot;</td><td>&quot;Strongly Agree&quot;</td><td>&quot;Somewhat Agree&quot;</td><td>&quot;Somewhat Agree&quot;</td><td>&quot;Somewhat Disagree&quot;</td><td>&quot;Neither Agree nor Disagree&quot;</td><td>&quot;Somewhat Agree&quot;</td><td>&quot;Strongly Disagree&quot;</td><td>&quot;Strongly Agree&quot;</td><td>&quot;Strongly Agree&quot;</td><td>&quot;Strongly Agree&quot;</td><td>&quot;Strongly Agree&quot;</td><td>&quot;Strongly Agree&quot;</td><td>&quot;Somewhat Agree&quot;</td><td>&quot;Somewhat Agree&quot;</td><td>&quot;Somewhat Agree&quot;</td><td>&quot;Somewhat Agree&quot;</td><td>&quot;Neither Agree nor Disagree&quot;</td><td>&quot;Somewhat Agree&quot;</td><td>&quot;Somewhat Agree&quot;</td><td>&quot;Somewhat Agree&quot;</td><td>&quot;Somewhat Agree&quot;</td><td>&quot;Strongly Disagree&quot;</td><td>&quot;Neither Agree nor Disagree&quot;</td><td>&quot;Strongly Agree&quot;</td><td>&quot;Strongly Disagree&quot;</td><td>&quot;Somewhat Agree&quot;</td><td>&quot;Somewhat Agree&quot;</td><td>&quot;Neither Agree nor Disagree&quot;</td><td>&quot;Somewhat Agree&quot;</td><td>&quot;Somewhat Agree&quot;</td><td>&quot;Somewhat Agree&quot;</td><td>&quot;Somewhat Agree&quot;</td><td>&quot;Strongly Agree&quot;</td><td>&quot;Somewhat Disagree&quot;</td><td>&quot;Somewhat Agree&quot;</td></tr></tbody></table></div>"
      ],
      "text/plain": [
       "shape: (5, 45)\n",
       "┌─────┬────────────┬────────────┬────────────┬───┬────────────┬────────────┬───────────┬───────────┐\n",
       "│ ID  ┆ F1         ┆ F5         ┆ F2         ┆ … ┆ F4.4       ┆ F5.7       ┆ F3.5      ┆ F2.11     │\n",
       "│ --- ┆ ---        ┆ ---        ┆ ---        ┆   ┆ ---        ┆ ---        ┆ ---       ┆ ---       │\n",
       "│ i64 ┆ str        ┆ str        ┆ str        ┆   ┆ str        ┆ str        ┆ str       ┆ str       │\n",
       "╞═════╪════════════╪════════════╪════════════╪═══╪════════════╪════════════╪═══════════╪═══════════╡\n",
       "│ 1   ┆ Somewhat   ┆ Somewhat   ┆ Somewhat   ┆ … ┆ Somewhat   ┆ Somewhat   ┆ Somewhat  ┆ Somewhat  │\n",
       "│     ┆ Agree      ┆ Disagree   ┆ Agree      ┆   ┆ Agree      ┆ Agree      ┆ Agree     ┆ Agree     │\n",
       "│ 2   ┆ Somewhat   ┆ Somewhat   ┆ Somewhat   ┆ … ┆ Neither    ┆ Somewhat   ┆ Neither   ┆ Somewhat  │\n",
       "│     ┆ Agree      ┆ Disagree   ┆ Agree      ┆   ┆ Agree nor  ┆ Agree      ┆ Agree nor ┆ Agree     │\n",
       "│     ┆            ┆            ┆            ┆   ┆ Disagree   ┆            ┆ Disagree  ┆           │\n",
       "│ 3   ┆ Strongly   ┆ Neither    ┆ Somewhat   ┆ … ┆ Somewhat   ┆ Strongly   ┆ Strongly  ┆ Somewhat  │\n",
       "│     ┆ Agree      ┆ Agree nor  ┆ Agree      ┆   ┆ Agree      ┆ Agree      ┆ Disagree  ┆ Agree     │\n",
       "│     ┆            ┆ Disagree   ┆            ┆   ┆            ┆            ┆           ┆           │\n",
       "│ 4   ┆ Somewhat   ┆ Somewhat   ┆ Strongly   ┆ … ┆ Neither    ┆ Somewhat   ┆ Somewhat  ┆ Somewhat  │\n",
       "│     ┆ Agree      ┆ Agree      ┆ Agree      ┆   ┆ Agree nor  ┆ Agree      ┆ Disagree  ┆ Agree     │\n",
       "│     ┆            ┆            ┆            ┆   ┆ Disagree   ┆            ┆           ┆           │\n",
       "│ 5   ┆ Strongly   ┆ Strongly   ┆ Neither    ┆ … ┆ Somewhat   ┆ Strongly   ┆ Somewhat  ┆ Somewhat  │\n",
       "│     ┆ Agree      ┆ Disagree   ┆ Agree nor  ┆   ┆ Agree      ┆ Agree      ┆ Disagree  ┆ Agree     │\n",
       "│     ┆            ┆            ┆ Disagree   ┆   ┆            ┆            ┆           ┆           │\n",
       "└─────┴────────────┴────────────┴────────────┴───┴────────────┴────────────┴───────────┴───────────┘"
      ]
     },
     "execution_count": 9,
     "metadata": {},
     "output_type": "execute_result"
    }
   ],
   "source": [
    "survey = pl.read_csv('./Data/health_survey.csv')\n",
    "survey.head()"
   ]
  },
  {
   "cell_type": "code",
   "execution_count": 8,
   "id": "357b4d3e-5e0d-4cb5-8079-8fdb57d2f691",
   "metadata": {},
   "outputs": [
    {
     "data": {
      "text/html": [
       "<div><style>\n",
       ".dataframe > thead > tr,\n",
       ".dataframe > tbody > tr {\n",
       "  text-align: right;\n",
       "  white-space: pre-wrap;\n",
       "}\n",
       "</style>\n",
       "<small>shape: (5, 5)</small><table border=\"1\" class=\"dataframe\"><thead><tr><th>Question</th><th>Construct</th><th>Question # on Qualtrics Survey</th><th>Needs Reverse Coding?</th><th>Column Name</th></tr><tr><td>str</td><td>i64</td><td>i64</td><td>str</td><td>str</td></tr></thead><tbody><tr><td>&quot;In the future, I plan to parti…</td><td>1</td><td>1</td><td>&quot;No&quot;</td><td>&quot;F1&quot;</td></tr><tr><td>&quot;Individuals are responsible fo…</td><td>5</td><td>2</td><td>&quot;Yes&quot;</td><td>&quot;F5&quot;</td></tr><tr><td>&quot;When tryng to understand the p…</td><td>2</td><td>3</td><td>&quot;No&quot;</td><td>&quot;F2&quot;</td></tr><tr><td>&quot;I plan to become involved in m…</td><td>1</td><td>4</td><td>&quot;No&quot;</td><td>&quot;F1.1&quot;</td></tr><tr><td>&quot;I can communicate well with ot…</td><td>2</td><td>5</td><td>&quot;No&quot;</td><td>&quot;F2.1&quot;</td></tr></tbody></table></div>"
      ],
      "text/plain": [
       "shape: (5, 5)\n",
       "┌─────────────────────────────┬───────────┬──────────────────┬───────────────────────┬─────────────┐\n",
       "│ Question                    ┆ Construct ┆ Question # on    ┆ Needs Reverse Coding? ┆ Column Name │\n",
       "│ ---                         ┆ ---       ┆ Qualtrics Survey ┆ ---                   ┆ ---         │\n",
       "│ str                         ┆ i64       ┆ ---              ┆ str                   ┆ str         │\n",
       "│                             ┆           ┆ i64              ┆                       ┆             │\n",
       "╞═════════════════════════════╪═══════════╪══════════════════╪═══════════════════════╪═════════════╡\n",
       "│ In the future, I plan to    ┆ 1         ┆ 1                ┆ No                    ┆ F1          │\n",
       "│ parti…                      ┆           ┆                  ┆                       ┆             │\n",
       "│ Individuals are responsible ┆ 5         ┆ 2                ┆ Yes                   ┆ F5          │\n",
       "│ fo…                         ┆           ┆                  ┆                       ┆             │\n",
       "│ When tryng to understand    ┆ 2         ┆ 3                ┆ No                    ┆ F2          │\n",
       "│ the p…                      ┆           ┆                  ┆                       ┆             │\n",
       "│ I plan to become involved   ┆ 1         ┆ 4                ┆ No                    ┆ F1.1        │\n",
       "│ in m…                       ┆           ┆                  ┆                       ┆             │\n",
       "│ I can communicate well with ┆ 2         ┆ 5                ┆ No                    ┆ F2.1        │\n",
       "│ ot…                         ┆           ┆                  ┆                       ┆             │\n",
       "└─────────────────────────────┴───────────┴──────────────────┴───────────────────────┴─────────────┘"
      ]
     },
     "execution_count": 8,
     "metadata": {},
     "output_type": "execute_result"
    }
   ],
   "source": [
    "Reverse_Code = pl.read_csv('./Data/ReverseCodingItems.csv')\n",
    "Reverse_Code.head()"
   ]
  },
  {
   "cell_type": "code",
   "execution_count": 49,
   "id": "f1ff9324-64f0-4997-8b15-c4aa19b259cd",
   "metadata": {},
   "outputs": [],
   "source": [
    "Reverse_select = (Reverse_Code\n",
    "                  .select(['Column Name','Needs Reverse Coding?']))"
   ]
  },
  {
   "cell_type": "code",
   "execution_count": 42,
   "id": "51dcf4b2-930c-4059-acef-f46232e86dc1",
   "metadata": {},
   "outputs": [],
   "source": [
    "column_head = [\n",
    " 'F1',\n",
    " 'F5',\n",
    " 'F2',\n",
    " 'F1.1',\n",
    " 'F2.1',\n",
    " 'F6',\n",
    " 'F4',\n",
    " 'F3',\n",
    " 'F5.1',\n",
    " 'F1.2',\n",
    " 'F2.2',\n",
    " 'F6.1',\n",
    " 'F2.3',\n",
    " 'F4.1',\n",
    " 'F2.4',\n",
    " 'F5.2',\n",
    " 'F2.5',\n",
    " 'F6.2',\n",
    " 'F1.3',\n",
    " 'F2.6',\n",
    " 'F5.3',\n",
    " 'F4.2',\n",
    " 'F2.7',\n",
    " 'F3.1',\n",
    " 'F2.8',\n",
    " 'F5.4',\n",
    " 'F3.2',\n",
    " 'F1.4',\n",
    " 'F3.3',\n",
    " 'F1.5',\n",
    " 'F5.5',\n",
    " 'F6.3',\n",
    " 'F1.6',\n",
    " 'F5.6',\n",
    " 'F2.9',\n",
    " 'F3.4',\n",
    " 'F4.3',\n",
    " 'F2.10',\n",
    " 'F1.7',\n",
    " 'F6.4',\n",
    " 'F4.4',\n",
    " 'F5.7',\n",
    " 'F3.5',\n",
    " 'F2.11']"
   ]
  },
  {
   "cell_type": "code",
   "execution_count": 46,
   "id": "600c73fb-ea3e-412e-ba18-1c7810e5a2cc",
   "metadata": {},
   "outputs": [
    {
     "data": {
      "text/html": [
       "<div><style>\n",
       ".dataframe > thead > tr,\n",
       ".dataframe > tbody > tr {\n",
       "  text-align: right;\n",
       "  white-space: pre-wrap;\n",
       "}\n",
       "</style>\n",
       "<small>shape: (11_616, 7)</small><table border=\"1\" class=\"dataframe\"><thead><tr><th>ID</th><th>Column Name</th><th>Response</th><th>Question</th><th>Construct</th><th>Question # on Qualtrics Survey</th><th>Needs Reverse Coding?</th></tr><tr><td>i64</td><td>str</td><td>str</td><td>str</td><td>i64</td><td>i64</td><td>str</td></tr></thead><tbody><tr><td>1</td><td>&quot;F1&quot;</td><td>&quot;Somewhat Agree&quot;</td><td>&quot;In the future, I plan to parti…</td><td>1</td><td>1</td><td>&quot;No&quot;</td></tr><tr><td>2</td><td>&quot;F1&quot;</td><td>&quot;Somewhat Agree&quot;</td><td>&quot;In the future, I plan to parti…</td><td>1</td><td>1</td><td>&quot;No&quot;</td></tr><tr><td>3</td><td>&quot;F1&quot;</td><td>&quot;Strongly Agree&quot;</td><td>&quot;In the future, I plan to parti…</td><td>1</td><td>1</td><td>&quot;No&quot;</td></tr><tr><td>4</td><td>&quot;F1&quot;</td><td>&quot;Somewhat Agree&quot;</td><td>&quot;In the future, I plan to parti…</td><td>1</td><td>1</td><td>&quot;No&quot;</td></tr><tr><td>5</td><td>&quot;F1&quot;</td><td>&quot;Strongly Agree&quot;</td><td>&quot;In the future, I plan to parti…</td><td>1</td><td>1</td><td>&quot;No&quot;</td></tr><tr><td>&hellip;</td><td>&hellip;</td><td>&hellip;</td><td>&hellip;</td><td>&hellip;</td><td>&hellip;</td><td>&hellip;</td></tr><tr><td>260</td><td>&quot;F2.11&quot;</td><td>&quot;Neither Agree nor Disagree&quot;</td><td>&quot;I can successfully resolve con…</td><td>2</td><td>44</td><td>&quot;No&quot;</td></tr><tr><td>261</td><td>&quot;F2.11&quot;</td><td>&quot;Somewhat Agree&quot;</td><td>&quot;I can successfully resolve con…</td><td>2</td><td>44</td><td>&quot;No&quot;</td></tr><tr><td>262</td><td>&quot;F2.11&quot;</td><td>&quot;Somewhat Agree&quot;</td><td>&quot;I can successfully resolve con…</td><td>2</td><td>44</td><td>&quot;No&quot;</td></tr><tr><td>263</td><td>&quot;F2.11&quot;</td><td>&quot;Somewhat Agree&quot;</td><td>&quot;I can successfully resolve con…</td><td>2</td><td>44</td><td>&quot;No&quot;</td></tr><tr><td>264</td><td>&quot;F2.11&quot;</td><td>&quot;Somewhat Agree&quot;</td><td>&quot;I can successfully resolve con…</td><td>2</td><td>44</td><td>&quot;No&quot;</td></tr></tbody></table></div>"
      ],
      "text/plain": [
       "shape: (11_616, 7)\n",
       "┌─────┬─────────────┬────────────────┬────────────────┬───────────┬────────────────┬───────────────┐\n",
       "│ ID  ┆ Column Name ┆ Response       ┆ Question       ┆ Construct ┆ Question # on  ┆ Needs Reverse │\n",
       "│ --- ┆ ---         ┆ ---            ┆ ---            ┆ ---       ┆ Qualtrics      ┆ Coding?       │\n",
       "│ i64 ┆ str         ┆ str            ┆ str            ┆ i64       ┆ Survey         ┆ ---           │\n",
       "│     ┆             ┆                ┆                ┆           ┆ ---            ┆ str           │\n",
       "│     ┆             ┆                ┆                ┆           ┆ i64            ┆               │\n",
       "╞═════╪═════════════╪════════════════╪════════════════╪═══════════╪════════════════╪═══════════════╡\n",
       "│ 1   ┆ F1          ┆ Somewhat Agree ┆ In the future, ┆ 1         ┆ 1              ┆ No            │\n",
       "│     ┆             ┆                ┆ I plan to      ┆           ┆                ┆               │\n",
       "│     ┆             ┆                ┆ parti…         ┆           ┆                ┆               │\n",
       "│ 2   ┆ F1          ┆ Somewhat Agree ┆ In the future, ┆ 1         ┆ 1              ┆ No            │\n",
       "│     ┆             ┆                ┆ I plan to      ┆           ┆                ┆               │\n",
       "│     ┆             ┆                ┆ parti…         ┆           ┆                ┆               │\n",
       "│ 3   ┆ F1          ┆ Strongly Agree ┆ In the future, ┆ 1         ┆ 1              ┆ No            │\n",
       "│     ┆             ┆                ┆ I plan to      ┆           ┆                ┆               │\n",
       "│     ┆             ┆                ┆ parti…         ┆           ┆                ┆               │\n",
       "│ 4   ┆ F1          ┆ Somewhat Agree ┆ In the future, ┆ 1         ┆ 1              ┆ No            │\n",
       "│     ┆             ┆                ┆ I plan to      ┆           ┆                ┆               │\n",
       "│     ┆             ┆                ┆ parti…         ┆           ┆                ┆               │\n",
       "│ 5   ┆ F1          ┆ Strongly Agree ┆ In the future, ┆ 1         ┆ 1              ┆ No            │\n",
       "│     ┆             ┆                ┆ I plan to      ┆           ┆                ┆               │\n",
       "│     ┆             ┆                ┆ parti…         ┆           ┆                ┆               │\n",
       "│ …   ┆ …           ┆ …              ┆ …              ┆ …         ┆ …              ┆ …             │\n",
       "│ 260 ┆ F2.11       ┆ Neither Agree  ┆ I can          ┆ 2         ┆ 44             ┆ No            │\n",
       "│     ┆             ┆ nor Disagree   ┆ successfully   ┆           ┆                ┆               │\n",
       "│     ┆             ┆                ┆ resolve con…   ┆           ┆                ┆               │\n",
       "│ 261 ┆ F2.11       ┆ Somewhat Agree ┆ I can          ┆ 2         ┆ 44             ┆ No            │\n",
       "│     ┆             ┆                ┆ successfully   ┆           ┆                ┆               │\n",
       "│     ┆             ┆                ┆ resolve con…   ┆           ┆                ┆               │\n",
       "│ 262 ┆ F2.11       ┆ Somewhat Agree ┆ I can          ┆ 2         ┆ 44             ┆ No            │\n",
       "│     ┆             ┆                ┆ successfully   ┆           ┆                ┆               │\n",
       "│     ┆             ┆                ┆ resolve con…   ┆           ┆                ┆               │\n",
       "│ 263 ┆ F2.11       ┆ Somewhat Agree ┆ I can          ┆ 2         ┆ 44             ┆ No            │\n",
       "│     ┆             ┆                ┆ successfully   ┆           ┆                ┆               │\n",
       "│     ┆             ┆                ┆ resolve con…   ┆           ┆                ┆               │\n",
       "│ 264 ┆ F2.11       ┆ Somewhat Agree ┆ I can          ┆ 2         ┆ 44             ┆ No            │\n",
       "│     ┆             ┆                ┆ successfully   ┆           ┆                ┆               │\n",
       "│     ┆             ┆                ┆ resolve con…   ┆           ┆                ┆               │\n",
       "└─────┴─────────────┴────────────────┴────────────────┴───────────┴────────────────┴───────────────┘"
      ]
     },
     "execution_count": 46,
     "metadata": {},
     "output_type": "execute_result"
    }
   ],
   "source": [
    "(survey\n",
    " .unpivot(on=column_head,\n",
    "          index = 'ID',\n",
    "          variable_name = 'Column Name',\n",
    "          value_name = 'Response')\n",
    " .join(Reverse_Code,on = 'Column Name',how = 'left'))"
   ]
  },
  {
   "cell_type": "code",
   "execution_count": null,
   "id": "1b0aba46-92e4-4c72-b939-5a6915954573",
   "metadata": {},
   "outputs": [],
   "source": []
  }
 ],
 "metadata": {
  "kernelspec": {
   "display_name": "Python 3 (ipykernel)",
   "language": "python",
   "name": "python3"
  },
  "language_info": {
   "codemirror_mode": {
    "name": "ipython",
    "version": 3
   },
   "file_extension": ".py",
   "mimetype": "text/x-python",
   "name": "python",
   "nbconvert_exporter": "python",
   "pygments_lexer": "ipython3",
   "version": "3.12.5"
  }
 },
 "nbformat": 4,
 "nbformat_minor": 5
}
