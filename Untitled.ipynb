{
 "cells": [
  {
   "cell_type": "code",
   "execution_count": 2,
   "id": "25727f8a-d781-4cb1-93a3-2ad6ade39d0c",
   "metadata": {},
   "outputs": [],
   "source": [
    "import polars as pl"
   ]
  },
  {
   "cell_type": "code",
   "execution_count": 3,
   "id": "7c758593-8831-4b88-9df5-d28c17057158",
   "metadata": {},
   "outputs": [
    {
     "data": {
      "text/html": [
       "<div><style>\n",
       ".dataframe > thead > tr,\n",
       ".dataframe > tbody > tr {\n",
       "  text-align: right;\n",
       "  white-space: pre-wrap;\n",
       "}\n",
       "</style>\n",
       "<small>shape: (5, 45)</small><table border=\"1\" class=\"dataframe\"><thead><tr><th></th><th>F1</th><th>F5</th><th>F2</th><th>F1.1</th><th>F2.1</th><th>F6</th><th>F4</th><th>F3</th><th>F5.1</th><th>F1.2</th><th>F2.2</th><th>F6.1</th><th>F2.3</th><th>F4.1</th><th>F2.4</th><th>F5.2</th><th>F2.5</th><th>F6.2</th><th>F1.3</th><th>F2.6</th><th>F5.3</th><th>F4.2</th><th>F2.7</th><th>F3.1</th><th>F2.8</th><th>F5.4</th><th>F3.2</th><th>F1.4</th><th>F3.3</th><th>F1.5</th><th>F5.5</th><th>F6.3</th><th>F1.6</th><th>F5.6</th><th>F2.9</th><th>F3.4</th><th>F4.3</th><th>F2.10</th><th>F1.7</th><th>F6.4</th><th>F4.4</th><th>F5.7</th><th>F3.5</th><th>F2.11</th></tr><tr><td>i64</td><td>str</td><td>str</td><td>str</td><td>str</td><td>str</td><td>str</td><td>str</td><td>str</td><td>str</td><td>str</td><td>str</td><td>str</td><td>str</td><td>str</td><td>str</td><td>str</td><td>str</td><td>str</td><td>str</td><td>str</td><td>str</td><td>str</td><td>str</td><td>str</td><td>str</td><td>str</td><td>str</td><td>str</td><td>str</td><td>str</td><td>str</td><td>str</td><td>str</td><td>str</td><td>str</td><td>str</td><td>str</td><td>str</td><td>str</td><td>str</td><td>str</td><td>str</td><td>str</td><td>str</td></tr></thead><tbody><tr><td>1</td><td>&quot;Somewhat Agree&quot;</td><td>&quot;Somewhat Disagree&quot;</td><td>&quot;Somewhat Agree&quot;</td><td>&quot;Somewhat Agree&quot;</td><td>&quot;Somewhat Agree&quot;</td><td>&quot;Somewhat Disagree&quot;</td><td>&quot;Somewhat Agree&quot;</td><td>&quot;Somewhat Agree&quot;</td><td>&quot;Somewhat Agree&quot;</td><td>&quot;Somewhat Agree&quot;</td><td>&quot;Somewhat Agree&quot;</td><td>&quot;Somewhat Agree&quot;</td><td>&quot;Somewhat Agree&quot;</td><td>&quot;Somewhat Agree&quot;</td><td>&quot;Somewhat Agree&quot;</td><td>&quot;Somewhat Agree&quot;</td><td>&quot;Somewhat Agree&quot;</td><td>&quot;Somewhat Agree&quot;</td><td>&quot;Somewhat Agree&quot;</td><td>&quot;Somewhat Agree&quot;</td><td>&quot;Somewhat Agree&quot;</td><td>&quot;Somewhat Agree&quot;</td><td>&quot;Somewhat Agree&quot;</td><td>&quot;Somewhat Disagree&quot;</td><td>&quot;Somewhat Agree&quot;</td><td>&quot;Somewhat Agree&quot;</td><td>&quot;Somewhat Agree&quot;</td><td>&quot;Neither Agree nor Disagree&quot;</td><td>&quot;Somewhat Agree&quot;</td><td>&quot;Somewhat Agree&quot;</td><td>&quot;Somewhat Disagree&quot;</td><td>&quot;Somewhat Disagree&quot;</td><td>&quot;Somewhat Agree&quot;</td><td>&quot;Somewhat Agree&quot;</td><td>&quot;Somewhat Agree&quot;</td><td>&quot;Somewhat Disagree&quot;</td><td>&quot;Neither Agree nor Disagree&quot;</td><td>&quot;Somewhat Agree&quot;</td><td>&quot;Somewhat Agree&quot;</td><td>&quot;Somewhat Agree&quot;</td><td>&quot;Somewhat Agree&quot;</td><td>&quot;Somewhat Agree&quot;</td><td>&quot;Somewhat Agree&quot;</td><td>&quot;Somewhat Agree&quot;</td></tr><tr><td>2</td><td>&quot;Somewhat Agree&quot;</td><td>&quot;Somewhat Disagree&quot;</td><td>&quot;Somewhat Agree&quot;</td><td>&quot;Somewhat Agree&quot;</td><td>&quot;Somewhat Agree&quot;</td><td>&quot;Somewhat Disagree&quot;</td><td>&quot;Somewhat Agree&quot;</td><td>&quot;Neither Agree nor Disagree&quot;</td><td>&quot;Neither Agree nor Disagree&quot;</td><td>&quot;Somewhat Agree&quot;</td><td>&quot;Neither Agree nor Disagree&quot;</td><td>&quot;Somewhat Agree&quot;</td><td>&quot;Somewhat Agree&quot;</td><td>&quot;Neither Agree nor Disagree&quot;</td><td>&quot;Somewhat Agree&quot;</td><td>&quot;Somewhat Agree&quot;</td><td>&quot;Somewhat Agree&quot;</td><td>&quot;Somewhat Agree&quot;</td><td>&quot;Somewhat Agree&quot;</td><td>&quot;Somewhat Agree&quot;</td><td>&quot;Somewhat Agree&quot;</td><td>&quot;Somewhat Agree&quot;</td><td>&quot;Somewhat Agree&quot;</td><td>&quot;Neither Agree nor Disagree&quot;</td><td>&quot;Somewhat Agree&quot;</td><td>&quot;Neither Agree nor Disagree&quot;</td><td>&quot;Neither Agree nor Disagree&quot;</td><td>&quot;Somewhat Agree&quot;</td><td>&quot;Neither Agree nor Disagree&quot;</td><td>&quot;Neither Agree nor Disagree&quot;</td><td>&quot;Neither Agree nor Disagree&quot;</td><td>&quot;Somewhat Disagree&quot;</td><td>&quot;Somewhat Agree&quot;</td><td>&quot;Somewhat Disagree&quot;</td><td>&quot;Somewhat Agree&quot;</td><td>&quot;Somewhat Agree&quot;</td><td>&quot;Neither Agree nor Disagree&quot;</td><td>&quot;Somewhat Agree&quot;</td><td>&quot;Somewhat Agree&quot;</td><td>&quot;Somewhat Disagree&quot;</td><td>&quot;Neither Agree nor Disagree&quot;</td><td>&quot;Somewhat Agree&quot;</td><td>&quot;Neither Agree nor Disagree&quot;</td><td>&quot;Somewhat Agree&quot;</td></tr><tr><td>3</td><td>&quot;Strongly Agree&quot;</td><td>&quot;Neither Agree nor Disagree&quot;</td><td>&quot;Somewhat Agree&quot;</td><td>&quot;Strongly Agree&quot;</td><td>&quot;Strongly Agree&quot;</td><td>&quot;Somewhat Disagree&quot;</td><td>&quot;Somewhat Agree&quot;</td><td>&quot;Somewhat Agree&quot;</td><td>&quot;Somewhat Agree&quot;</td><td>&quot;Strongly Agree&quot;</td><td>&quot;Somewhat Agree&quot;</td><td>&quot;Neither Agree nor Disagree&quot;</td><td>&quot;Somewhat Agree&quot;</td><td>&quot;Neither Agree nor Disagree&quot;</td><td>&quot;Somewhat Agree&quot;</td><td>&quot;Somewhat Disagree&quot;</td><td>&quot;Strongly Agree&quot;</td><td>&quot;Somewhat Agree&quot;</td><td>&quot;Strongly Agree&quot;</td><td>&quot;Somewhat Agree&quot;</td><td>&quot;Somewhat Agree&quot;</td><td>&quot;Somewhat Agree&quot;</td><td>&quot;&quot;</td><td>&quot;Somewhat Disagree&quot;</td><td>&quot;Somewhat Agree&quot;</td><td>&quot;Somewhat Agree&quot;</td><td>&quot;Somewhat Agree&quot;</td><td>&quot;Somewhat Disagree&quot;</td><td>&quot;Somewhat Agree&quot;</td><td>&quot;Strongly Agree&quot;</td><td>&quot;Somewhat Disagree&quot;</td><td>&quot;Somewhat Disagree&quot;</td><td>&quot;Strongly Agree&quot;</td><td>&quot;Somewhat Disagree&quot;</td><td>&quot;Somewhat Agree&quot;</td><td>&quot;Somewhat Agree&quot;</td><td>&quot;Neither Agree nor Disagree&quot;</td><td>&quot;Somewhat Agree&quot;</td><td>&quot;Somewhat Agree&quot;</td><td>&quot;Somewhat Agree&quot;</td><td>&quot;Somewhat Agree&quot;</td><td>&quot;Strongly Agree&quot;</td><td>&quot;Strongly Disagree&quot;</td><td>&quot;Somewhat Agree&quot;</td></tr><tr><td>4</td><td>&quot;Somewhat Agree&quot;</td><td>&quot;Somewhat Agree&quot;</td><td>&quot;Strongly Agree&quot;</td><td>&quot;Somewhat Agree&quot;</td><td>&quot;Strongly Agree&quot;</td><td>&quot;Neither Agree nor Disagree&quot;</td><td>&quot;Neither Agree nor Disagree&quot;</td><td>&quot;Somewhat Disagree&quot;</td><td>&quot;Somewhat Agree&quot;</td><td>&quot;Strongly Agree&quot;</td><td>&quot;Strongly Agree&quot;</td><td>&quot;Somewhat Agree&quot;</td><td>&quot;Somewhat Agree&quot;</td><td>&quot;Neither Agree nor Disagree&quot;</td><td>&quot;Strongly Agree&quot;</td><td>&quot;Somewhat Disagree&quot;</td><td>&quot;Strongly Agree&quot;</td><td>&quot;Somewhat Agree&quot;</td><td>&quot;Somewhat Agree&quot;</td><td>&quot;Strongly Agree&quot;</td><td>&quot;Somewhat Agree&quot;</td><td>&quot;Somewhat Agree&quot;</td><td>&quot;Somewhat Agree&quot;</td><td>&quot;Somewhat Disagree&quot;</td><td>&quot;Somewhat Agree&quot;</td><td>&quot;Somewhat Agree&quot;</td><td>&quot;Somewhat Disagree&quot;</td><td>&quot;Neither Agree nor Disagree&quot;</td><td>&quot;Somewhat Disagree&quot;</td><td>&quot;Somewhat Agree&quot;</td><td>&quot;Somewhat Disagree&quot;</td><td>&quot;Somewhat Agree&quot;</td><td>&quot;Strongly Agree&quot;</td><td>&quot;Somewhat Disagree&quot;</td><td>&quot;Somewhat Agree&quot;</td><td>&quot;Somewhat Disagree&quot;</td><td>&quot;Somewhat Agree&quot;</td><td>&quot;Somewhat Agree&quot;</td><td>&quot;Neither Agree nor Disagree&quot;</td><td>&quot;Neither Agree nor Disagree&quot;</td><td>&quot;Neither Agree nor Disagree&quot;</td><td>&quot;Somewhat Agree&quot;</td><td>&quot;Somewhat Disagree&quot;</td><td>&quot;Somewhat Agree&quot;</td></tr><tr><td>5</td><td>&quot;Strongly Agree&quot;</td><td>&quot;Strongly Disagree&quot;</td><td>&quot;Neither Agree nor Disagree&quot;</td><td>&quot;Strongly Agree&quot;</td><td>&quot;Somewhat Agree&quot;</td><td>&quot;Strongly Disagree&quot;</td><td>&quot;Strongly Agree&quot;</td><td>&quot;Somewhat Agree&quot;</td><td>&quot;Neither Agree nor Disagree&quot;</td><td>&quot;Strongly Agree&quot;</td><td>&quot;Somewhat Agree&quot;</td><td>&quot;Somewhat Agree&quot;</td><td>&quot;Somewhat Disagree&quot;</td><td>&quot;Neither Agree nor Disagree&quot;</td><td>&quot;Somewhat Agree&quot;</td><td>&quot;Strongly Disagree&quot;</td><td>&quot;Strongly Agree&quot;</td><td>&quot;Strongly Agree&quot;</td><td>&quot;Strongly Agree&quot;</td><td>&quot;Strongly Agree&quot;</td><td>&quot;Strongly Agree&quot;</td><td>&quot;Somewhat Agree&quot;</td><td>&quot;Somewhat Agree&quot;</td><td>&quot;Somewhat Agree&quot;</td><td>&quot;Somewhat Agree&quot;</td><td>&quot;Neither Agree nor Disagree&quot;</td><td>&quot;Somewhat Agree&quot;</td><td>&quot;Somewhat Agree&quot;</td><td>&quot;Somewhat Agree&quot;</td><td>&quot;Somewhat Agree&quot;</td><td>&quot;Strongly Disagree&quot;</td><td>&quot;Neither Agree nor Disagree&quot;</td><td>&quot;Strongly Agree&quot;</td><td>&quot;Strongly Disagree&quot;</td><td>&quot;Somewhat Agree&quot;</td><td>&quot;Somewhat Agree&quot;</td><td>&quot;Neither Agree nor Disagree&quot;</td><td>&quot;Somewhat Agree&quot;</td><td>&quot;Somewhat Agree&quot;</td><td>&quot;Somewhat Agree&quot;</td><td>&quot;Somewhat Agree&quot;</td><td>&quot;Strongly Agree&quot;</td><td>&quot;Somewhat Disagree&quot;</td><td>&quot;Somewhat Agree&quot;</td></tr></tbody></table></div>"
      ],
      "text/plain": [
       "shape: (5, 45)\n",
       "┌─────┬────────────┬────────────┬────────────┬───┬────────────┬────────────┬───────────┬───────────┐\n",
       "│     ┆ F1         ┆ F5         ┆ F2         ┆ … ┆ F4.4       ┆ F5.7       ┆ F3.5      ┆ F2.11     │\n",
       "│ --- ┆ ---        ┆ ---        ┆ ---        ┆   ┆ ---        ┆ ---        ┆ ---       ┆ ---       │\n",
       "│ i64 ┆ str        ┆ str        ┆ str        ┆   ┆ str        ┆ str        ┆ str       ┆ str       │\n",
       "╞═════╪════════════╪════════════╪════════════╪═══╪════════════╪════════════╪═══════════╪═══════════╡\n",
       "│ 1   ┆ Somewhat   ┆ Somewhat   ┆ Somewhat   ┆ … ┆ Somewhat   ┆ Somewhat   ┆ Somewhat  ┆ Somewhat  │\n",
       "│     ┆ Agree      ┆ Disagree   ┆ Agree      ┆   ┆ Agree      ┆ Agree      ┆ Agree     ┆ Agree     │\n",
       "│ 2   ┆ Somewhat   ┆ Somewhat   ┆ Somewhat   ┆ … ┆ Neither    ┆ Somewhat   ┆ Neither   ┆ Somewhat  │\n",
       "│     ┆ Agree      ┆ Disagree   ┆ Agree      ┆   ┆ Agree nor  ┆ Agree      ┆ Agree nor ┆ Agree     │\n",
       "│     ┆            ┆            ┆            ┆   ┆ Disagree   ┆            ┆ Disagree  ┆           │\n",
       "│ 3   ┆ Strongly   ┆ Neither    ┆ Somewhat   ┆ … ┆ Somewhat   ┆ Strongly   ┆ Strongly  ┆ Somewhat  │\n",
       "│     ┆ Agree      ┆ Agree nor  ┆ Agree      ┆   ┆ Agree      ┆ Agree      ┆ Disagree  ┆ Agree     │\n",
       "│     ┆            ┆ Disagree   ┆            ┆   ┆            ┆            ┆           ┆           │\n",
       "│ 4   ┆ Somewhat   ┆ Somewhat   ┆ Strongly   ┆ … ┆ Neither    ┆ Somewhat   ┆ Somewhat  ┆ Somewhat  │\n",
       "│     ┆ Agree      ┆ Agree      ┆ Agree      ┆   ┆ Agree nor  ┆ Agree      ┆ Disagree  ┆ Agree     │\n",
       "│     ┆            ┆            ┆            ┆   ┆ Disagree   ┆            ┆           ┆           │\n",
       "│ 5   ┆ Strongly   ┆ Strongly   ┆ Neither    ┆ … ┆ Somewhat   ┆ Strongly   ┆ Somewhat  ┆ Somewhat  │\n",
       "│     ┆ Agree      ┆ Disagree   ┆ Agree nor  ┆   ┆ Agree      ┆ Agree      ┆ Disagree  ┆ Agree     │\n",
       "│     ┆            ┆            ┆ Disagree   ┆   ┆            ┆            ┆           ┆           │\n",
       "└─────┴────────────┴────────────┴────────────┴───┴────────────┴────────────┴───────────┴───────────┘"
      ]
     },
     "execution_count": 3,
     "metadata": {},
     "output_type": "execute_result"
    }
   ],
   "source": [
    "survey = pl.read_csv('./Data/health_survey.csv')\n",
    "survey.head()"
   ]
  },
  {
   "cell_type": "code",
   "execution_count": 6,
   "id": "357b4d3e-5e0d-4cb5-8079-8fdb57d2f691",
   "metadata": {},
   "outputs": [
    {
     "data": {
      "text/html": [
       "<div><style>\n",
       ".dataframe > thead > tr,\n",
       ".dataframe > tbody > tr {\n",
       "  text-align: right;\n",
       "  white-space: pre-wrap;\n",
       "}\n",
       "</style>\n",
       "<small>shape: (0, 184)</small><table border=\"1\" class=\"dataframe\"><thead><tr><th>Question</th><th>Construct</th><th>Question # on Qualtrics Survey</th><th>Needs Reverse Coding?</th><th>Column Name\r",
       "&quot;In the future</th><th> I plan to participate in a community service organization&quot;</th><th>1</th><th>1_duplicated_0</th><th>No</th><th>F1\r",
       "Individuals are responsible for their own misforturnes</th><th>5</th><th>2</th><th>Yes</th><th>F5\r",
       "&quot;When tryng to understand the position of others</th><th> I try to palce myself in their position&quot;</th><th>2_duplicated_0</th><th>3</th><th>No_duplicated_0</th><th>F2\r",
       "I plan to become involved in my community </th><th>1_duplicated_1</th><th>4</th><th>No_duplicated_1</th><th>F1.1\r",
       "I can communicate well with others</th><th>2_duplicated_1</th><th>5_duplicated_0</th><th>No_duplicated_2</th><th>F2.1\r",
       "It is hard for a group to function effectively when the people involved come from very diverse backgrounds</th><th>6</th><th>6_duplicated_0</th><th>Yes_duplicated_0</th><th>F6\r",
       "I feel that I can make a difference in the world</th><th>4_duplicated_0</th><th>7</th><th>No_duplicated_3</th><th>F4\r",
       "I am knowledgable of the issues facing the world</th><th>3_duplicated_0</th><th>8</th><th>&hellip;</th><th>F2.9\r",
       "I understand the issues facing my city&#x27;s community</th><th>3_duplicated_4</th><th>36</th><th>No_duplicated_27</th><th>F3.4\r",
       "I would rather have sombody else take the lead in fomrulating a solution</th><th>4_duplicated_3</th><th>37</th><th>Yes_duplicated_6</th><th>F4.3\r",
       "I can think analytically in solving problems</th><th>2_duplicated_10</th><th>38</th><th>No_duplicated_28</th><th>F2.10\r",
       "I plan to participate in a community action program</th><th>1_duplicated_7</th><th>39</th><th>No_duplicated_29</th><th>F1.7\r",
       "I prefer the company of people who are very similar to me in background and expressions</th><th>6_duplicated_4</th><th>40</th><th>Yes_duplicated_7</th><th>F6.4\r",
       "I have the ability to lead a group of people</th><th>4_duplicated_4</th><th>41</th><th>No_duplicated_30</th><th>F4.4\r",
       "It is important to me that equal opportunity be available to all people</th><th>5_duplicated_7</th><th>42</th><th>No_duplicated_31</th><th>F5.7\r",
       "I plan to be involved in the political process</th><th>3_duplicated_5</th><th>43</th><th>No_duplicated_32</th><th>F3.5\r",
       "I can successfully resolve conflicts with others </th><th>2_duplicated_11</th><th>44</th><th>No_duplicated_33</th><th>F2.11</th></tr><tr><td>str</td><td>str</td><td>str</td><td>str</td><td>str</td><td>str</td><td>str</td><td>str</td><td>str</td><td>str</td><td>str</td><td>str</td><td>str</td><td>str</td><td>str</td><td>str</td><td>str</td><td>str</td><td>str</td><td>str</td><td>str</td><td>str</td><td>str</td><td>str</td><td>str</td><td>str</td><td>str</td><td>str</td><td>str</td><td>str</td><td>str</td><td>str</td><td>str</td><td>str</td><td>str</td><td>str</td><td>str</td><td>&hellip;</td><td>str</td><td>str</td><td>str</td><td>str</td><td>str</td><td>str</td><td>str</td><td>str</td><td>str</td><td>str</td><td>str</td><td>str</td><td>str</td><td>str</td><td>str</td><td>str</td><td>str</td><td>str</td><td>str</td><td>str</td><td>str</td><td>str</td><td>str</td><td>str</td><td>str</td><td>str</td><td>str</td><td>str</td><td>str</td><td>str</td><td>str</td><td>str</td><td>str</td><td>str</td><td>str</td><td>str</td><td>str</td></tr></thead><tbody></tbody></table></div>"
      ],
      "text/plain": [
       "shape: (0, 184)\n",
       "┌──────────┬───────────┬───────────────┬─────────┬───┬───────────────┬─────┬───────────────┬───────┐\n",
       "│ Question ┆ Construct ┆ Question # on ┆ Needs   ┆ … ┆ 2_duplicated_ ┆ 44  ┆ No_duplicated ┆ F2.11 │\n",
       "│ ---      ┆ ---       ┆ Qualtrics     ┆ Reverse ┆   ┆ 11            ┆ --- ┆ _33           ┆ ---   │\n",
       "│ str      ┆ str       ┆ Survey        ┆ Coding? ┆   ┆ ---           ┆ str ┆ ---           ┆ str   │\n",
       "│          ┆           ┆ ---           ┆ ---     ┆   ┆ str           ┆     ┆ str           ┆       │\n",
       "│          ┆           ┆ str           ┆ str     ┆   ┆               ┆     ┆               ┆       │\n",
       "╞══════════╪═══════════╪═══════════════╪═════════╪═══╪═══════════════╪═════╪═══════════════╪═══════╡\n",
       "└──────────┴───────────┴───────────────┴─────────┴───┴───────────────┴─────┴───────────────┴───────┘"
      ]
     },
     "execution_count": 6,
     "metadata": {},
     "output_type": "execute_result"
    }
   ],
   "source": [
    "Reverse_Code = pl.read_csv('./Data/ReverseCodingItems.csv')\n",
    "Reverse_Code"
   ]
  }
 ],
 "metadata": {
  "kernelspec": {
   "display_name": "Python 3 (ipykernel)",
   "language": "python",
   "name": "python3"
  },
  "language_info": {
   "codemirror_mode": {
    "name": "ipython",
    "version": 3
   },
   "file_extension": ".py",
   "mimetype": "text/x-python",
   "name": "python",
   "nbconvert_exporter": "python",
   "pygments_lexer": "ipython3",
   "version": "3.12.5"
  }
 },
 "nbformat": 4,
 "nbformat_minor": 5
}
